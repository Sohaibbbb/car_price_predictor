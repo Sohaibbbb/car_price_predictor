{
 "cells": [
  {
   "cell_type": "code",
   "execution_count": 1,
   "id": "5dead29c",
   "metadata": {},
   "outputs": [],
   "source": [
    "import pandas as pd\n",
    "import numpy as np\n",
    "import matplotlib.pyplot as plt\n",
    "import matplotlib as mpl\n",
    "%matplotlib inline\n",
    "mpl.style.use('ggplot')"
   ]
  },
  {
   "cell_type": "code",
   "execution_count": 2,
   "id": "f1a9f32e",
   "metadata": {},
   "outputs": [],
   "source": [
    "car=pd.read_csv('Dataset.csv')"
   ]
  },
  {
   "cell_type": "code",
   "execution_count": 3,
   "id": "5126d259",
   "metadata": {},
   "outputs": [
    {
     "data": {
      "text/html": [
       "<div>\n",
       "<style scoped>\n",
       "    .dataframe tbody tr th:only-of-type {\n",
       "        vertical-align: middle;\n",
       "    }\n",
       "\n",
       "    .dataframe tbody tr th {\n",
       "        vertical-align: top;\n",
       "    }\n",
       "\n",
       "    .dataframe thead th {\n",
       "        text-align: right;\n",
       "    }\n",
       "</style>\n",
       "<table border=\"1\" class=\"dataframe\">\n",
       "  <thead>\n",
       "    <tr style=\"text-align: right;\">\n",
       "      <th></th>\n",
       "      <th>name</th>\n",
       "      <th>company</th>\n",
       "      <th>year</th>\n",
       "      <th>price</th>\n",
       "      <th>kms_driven</th>\n",
       "      <th>fuel_type</th>\n",
       "      <th>Unnamed: 6</th>\n",
       "      <th>Unnamed: 7</th>\n",
       "    </tr>\n",
       "  </thead>\n",
       "  <tbody>\n",
       "    <tr>\n",
       "      <th>0</th>\n",
       "      <td>COROLLA GLI</td>\n",
       "      <td>TOYOTA</td>\n",
       "      <td>2022.0</td>\n",
       "      <td>2714000.0</td>\n",
       "      <td>0</td>\n",
       "      <td>PETROL</td>\n",
       "      <td>NaN</td>\n",
       "      <td></td>\n",
       "    </tr>\n",
       "    <tr>\n",
       "      <th>1</th>\n",
       "      <td>COROLLA ALTIS</td>\n",
       "      <td>TOYOTA</td>\n",
       "      <td>2022.0</td>\n",
       "      <td>3637000.0</td>\n",
       "      <td>0</td>\n",
       "      <td>PETROL</td>\n",
       "      <td>NaN</td>\n",
       "      <td>NaN</td>\n",
       "    </tr>\n",
       "    <tr>\n",
       "      <th>2</th>\n",
       "      <td>COROLLA ALTIS GRANDE</td>\n",
       "      <td>TOYOTA</td>\n",
       "      <td>2022.0</td>\n",
       "      <td>4330000.0</td>\n",
       "      <td>0</td>\n",
       "      <td>PETROL</td>\n",
       "      <td>NaN</td>\n",
       "      <td>NaN</td>\n",
       "    </tr>\n",
       "    <tr>\n",
       "      <th>3</th>\n",
       "      <td>YARIS 1.3 AT</td>\n",
       "      <td>TOYOTA</td>\n",
       "      <td>2022.0</td>\n",
       "      <td>3020000.0</td>\n",
       "      <td>0</td>\n",
       "      <td>PETROL</td>\n",
       "      <td>NaN</td>\n",
       "      <td>NaN</td>\n",
       "    </tr>\n",
       "    <tr>\n",
       "      <th>4</th>\n",
       "      <td>YARIS 1.3 MT</td>\n",
       "      <td>TOYOTA</td>\n",
       "      <td>2022.0</td>\n",
       "      <td>2847000.0</td>\n",
       "      <td>0</td>\n",
       "      <td>PETROL</td>\n",
       "      <td>NaN</td>\n",
       "      <td>NaN</td>\n",
       "    </tr>\n",
       "  </tbody>\n",
       "</table>\n",
       "</div>"
      ],
      "text/plain": [
       "                   name company    year      price  kms_driven fuel_type  \\\n",
       "0           COROLLA GLI  TOYOTA  2022.0  2714000.0           0    PETROL   \n",
       "1         COROLLA ALTIS  TOYOTA  2022.0  3637000.0           0    PETROL   \n",
       "2  COROLLA ALTIS GRANDE  TOYOTA  2022.0  4330000.0           0    PETROL   \n",
       "3          YARIS 1.3 AT  TOYOTA  2022.0  3020000.0           0    PETROL   \n",
       "4          YARIS 1.3 MT  TOYOTA  2022.0  2847000.0           0    PETROL   \n",
       "\n",
       "   Unnamed: 6 Unnamed: 7  \n",
       "0         NaN             \n",
       "1         NaN        NaN  \n",
       "2         NaN        NaN  \n",
       "3         NaN        NaN  \n",
       "4         NaN        NaN  "
      ]
     },
     "execution_count": 3,
     "metadata": {},
     "output_type": "execute_result"
    }
   ],
   "source": [
    "car.head()"
   ]
  },
  {
   "cell_type": "code",
   "execution_count": 4,
   "id": "b63a47e9",
   "metadata": {},
   "outputs": [
    {
     "data": {
      "text/plain": [
       "(599, 8)"
      ]
     },
     "execution_count": 4,
     "metadata": {},
     "output_type": "execute_result"
    }
   ],
   "source": [
    "car.shape"
   ]
  },
  {
   "cell_type": "code",
   "execution_count": 5,
   "id": "8d8233b3",
   "metadata": {},
   "outputs": [
    {
     "name": "stdout",
     "output_type": "stream",
     "text": [
      "<class 'pandas.core.frame.DataFrame'>\n",
      "RangeIndex: 599 entries, 0 to 598\n",
      "Data columns (total 8 columns):\n",
      " #   Column      Non-Null Count  Dtype  \n",
      "---  ------      --------------  -----  \n",
      " 0   name        599 non-null    object \n",
      " 1   company     599 non-null    object \n",
      " 2   year        596 non-null    float64\n",
      " 3   price       543 non-null    float64\n",
      " 4   kms_driven  599 non-null    int64  \n",
      " 5   fuel_type   599 non-null    object \n",
      " 6   Unnamed: 6  0 non-null      float64\n",
      " 7   Unnamed: 7  1 non-null      object \n",
      "dtypes: float64(3), int64(1), object(4)\n",
      "memory usage: 37.6+ KB\n"
     ]
    }
   ],
   "source": [
    "car.info()"
   ]
  },
  {
   "cell_type": "code",
   "execution_count": 6,
   "id": "a7eb0d0b",
   "metadata": {},
   "outputs": [],
   "source": [
    "backup=car.copy()"
   ]
  },
  {
   "cell_type": "code",
   "execution_count": 7,
   "id": "a54cef5c",
   "metadata": {},
   "outputs": [],
   "source": [
    "# QUALITY CHECKPOINTS\n",
    "# names are pretty inconsistent\n",
    "# names have company names attached to it\n",
    "# some names are spam like 'Maruti Ertiga showroom condition with' and 'Well mentained Tata Sumo'\n",
    "# company: many of the names are not of any company like 'Used', 'URJENT', and so on.\n",
    "# year has many non-year values\n",
    "# year is in object. Change to integer\n",
    "# Price has Ask for Price\n",
    "# Price has commas in its prices and is in object\n",
    "# kms_driven has object values with kms at last.\n",
    "# It has nan values and two rows have 'Petrol' in them\n",
    "# fuel_type has nan values\n",
    "# Cleaning Data\n",
    "# year has many non-year values"
   ]
  },
  {
   "cell_type": "code",
   "execution_count": 8,
   "id": "52b9cf28",
   "metadata": {},
   "outputs": [],
   "source": [
    "car['name']=car['name'].str.split().str.slice(start=0,stop=3).str.join(' ')"
   ]
  },
  {
   "cell_type": "code",
   "execution_count": 9,
   "id": "9707bc61",
   "metadata": {},
   "outputs": [],
   "source": [
    "car=car.drop(\"Unnamed: 6\",axis=1)"
   ]
  },
  {
   "cell_type": "code",
   "execution_count": 10,
   "id": "c17d2584",
   "metadata": {},
   "outputs": [],
   "source": [
    "car=car.drop(\"Unnamed: 7\",axis=1)"
   ]
  },
  {
   "cell_type": "code",
   "execution_count": 11,
   "id": "a99ce5ce",
   "metadata": {},
   "outputs": [
    {
     "name": "stdout",
     "output_type": "stream",
     "text": [
      "<class 'pandas.core.frame.DataFrame'>\n",
      "RangeIndex: 599 entries, 0 to 598\n",
      "Data columns (total 6 columns):\n",
      " #   Column      Non-Null Count  Dtype  \n",
      "---  ------      --------------  -----  \n",
      " 0   name        599 non-null    object \n",
      " 1   company     599 non-null    object \n",
      " 2   year        596 non-null    float64\n",
      " 3   price       543 non-null    float64\n",
      " 4   kms_driven  599 non-null    int64  \n",
      " 5   fuel_type   599 non-null    object \n",
      "dtypes: float64(2), int64(1), object(3)\n",
      "memory usage: 28.2+ KB\n"
     ]
    }
   ],
   "source": [
    "car.info()"
   ]
  },
  {
   "cell_type": "code",
   "execution_count": 12,
   "id": "3089e6fb",
   "metadata": {},
   "outputs": [],
   "source": [
    "car=car[~car['price'].isna()]"
   ]
  },
  {
   "cell_type": "code",
   "execution_count": 13,
   "id": "bb9bac84",
   "metadata": {},
   "outputs": [],
   "source": [
    "car=car[~car['year'].isna()]"
   ]
  },
  {
   "cell_type": "code",
   "execution_count": 14,
   "id": "c6476753",
   "metadata": {},
   "outputs": [],
   "source": [
    "car['price']=car['price'].astype(int)"
   ]
  },
  {
   "cell_type": "code",
   "execution_count": 15,
   "id": "34a2299c",
   "metadata": {},
   "outputs": [],
   "source": [
    "car['kms_driven']=car['kms_driven'].astype(int)"
   ]
  },
  {
   "cell_type": "code",
   "execution_count": 16,
   "id": "054b4109",
   "metadata": {},
   "outputs": [],
   "source": [
    "car['year']=car['year'].astype(int)"
   ]
  },
  {
   "cell_type": "code",
   "execution_count": 17,
   "id": "a4e84f73",
   "metadata": {},
   "outputs": [],
   "source": [
    "car=car.reset_index(drop=True)"
   ]
  },
  {
   "cell_type": "code",
   "execution_count": 18,
   "id": "4f1b3808",
   "metadata": {},
   "outputs": [
    {
     "data": {
      "text/html": [
       "<div>\n",
       "<style scoped>\n",
       "    .dataframe tbody tr th:only-of-type {\n",
       "        vertical-align: middle;\n",
       "    }\n",
       "\n",
       "    .dataframe tbody tr th {\n",
       "        vertical-align: top;\n",
       "    }\n",
       "\n",
       "    .dataframe thead th {\n",
       "        text-align: right;\n",
       "    }\n",
       "</style>\n",
       "<table border=\"1\" class=\"dataframe\">\n",
       "  <thead>\n",
       "    <tr style=\"text-align: right;\">\n",
       "      <th></th>\n",
       "      <th>name</th>\n",
       "      <th>company</th>\n",
       "      <th>year</th>\n",
       "      <th>price</th>\n",
       "      <th>kms_driven</th>\n",
       "      <th>fuel_type</th>\n",
       "    </tr>\n",
       "  </thead>\n",
       "  <tbody>\n",
       "    <tr>\n",
       "      <th>0</th>\n",
       "      <td>COROLLA GLI</td>\n",
       "      <td>TOYOTA</td>\n",
       "      <td>2022</td>\n",
       "      <td>2714000</td>\n",
       "      <td>0</td>\n",
       "      <td>PETROL</td>\n",
       "    </tr>\n",
       "    <tr>\n",
       "      <th>1</th>\n",
       "      <td>COROLLA ALTIS</td>\n",
       "      <td>TOYOTA</td>\n",
       "      <td>2022</td>\n",
       "      <td>3637000</td>\n",
       "      <td>0</td>\n",
       "      <td>PETROL</td>\n",
       "    </tr>\n",
       "    <tr>\n",
       "      <th>2</th>\n",
       "      <td>COROLLA ALTIS GRANDE</td>\n",
       "      <td>TOYOTA</td>\n",
       "      <td>2022</td>\n",
       "      <td>4330000</td>\n",
       "      <td>0</td>\n",
       "      <td>PETROL</td>\n",
       "    </tr>\n",
       "    <tr>\n",
       "      <th>3</th>\n",
       "      <td>YARIS 1.3 AT</td>\n",
       "      <td>TOYOTA</td>\n",
       "      <td>2022</td>\n",
       "      <td>3020000</td>\n",
       "      <td>0</td>\n",
       "      <td>PETROL</td>\n",
       "    </tr>\n",
       "    <tr>\n",
       "      <th>4</th>\n",
       "      <td>YARIS 1.3 MT</td>\n",
       "      <td>TOYOTA</td>\n",
       "      <td>2022</td>\n",
       "      <td>2847000</td>\n",
       "      <td>0</td>\n",
       "      <td>PETROL</td>\n",
       "    </tr>\n",
       "    <tr>\n",
       "      <th>...</th>\n",
       "      <td>...</td>\n",
       "      <td>...</td>\n",
       "      <td>...</td>\n",
       "      <td>...</td>\n",
       "      <td>...</td>\n",
       "      <td>...</td>\n",
       "    </tr>\n",
       "    <tr>\n",
       "      <th>538</th>\n",
       "      <td>CITY 1.3 AT</td>\n",
       "      <td>HONDA</td>\n",
       "      <td>2014</td>\n",
       "      <td>2050000</td>\n",
       "      <td>36000</td>\n",
       "      <td>PETROL</td>\n",
       "    </tr>\n",
       "    <tr>\n",
       "      <th>539</th>\n",
       "      <td>FORTUNER 2.7</td>\n",
       "      <td>TOYOTA</td>\n",
       "      <td>2021</td>\n",
       "      <td>10200000</td>\n",
       "      <td>15000</td>\n",
       "      <td>PETROL</td>\n",
       "    </tr>\n",
       "    <tr>\n",
       "      <th>540</th>\n",
       "      <td>TUCSON FWD GLS</td>\n",
       "      <td>HYUNDAI</td>\n",
       "      <td>2021</td>\n",
       "      <td>6090000</td>\n",
       "      <td>4500</td>\n",
       "      <td>PETROL</td>\n",
       "    </tr>\n",
       "    <tr>\n",
       "      <th>541</th>\n",
       "      <td>REVO G AT</td>\n",
       "      <td>TOYOTA</td>\n",
       "      <td>2021</td>\n",
       "      <td>7100000</td>\n",
       "      <td>12000</td>\n",
       "      <td>DIESEL</td>\n",
       "    </tr>\n",
       "    <tr>\n",
       "      <th>542</th>\n",
       "      <td>FORTUNER 2.8 SIGMA</td>\n",
       "      <td>TOYOTA</td>\n",
       "      <td>2021</td>\n",
       "      <td>9200000</td>\n",
       "      <td>7000</td>\n",
       "      <td>DIESEL</td>\n",
       "    </tr>\n",
       "  </tbody>\n",
       "</table>\n",
       "<p>543 rows × 6 columns</p>\n",
       "</div>"
      ],
      "text/plain": [
       "                     name  company  year     price  kms_driven fuel_type\n",
       "0             COROLLA GLI   TOYOTA  2022   2714000           0    PETROL\n",
       "1           COROLLA ALTIS   TOYOTA  2022   3637000           0    PETROL\n",
       "2    COROLLA ALTIS GRANDE   TOYOTA  2022   4330000           0    PETROL\n",
       "3            YARIS 1.3 AT   TOYOTA  2022   3020000           0    PETROL\n",
       "4            YARIS 1.3 MT   TOYOTA  2022   2847000           0    PETROL\n",
       "..                    ...      ...   ...       ...         ...       ...\n",
       "538           CITY 1.3 AT    HONDA  2014   2050000       36000    PETROL\n",
       "539          FORTUNER 2.7   TOYOTA  2021  10200000       15000    PETROL\n",
       "540        TUCSON FWD GLS  HYUNDAI  2021   6090000        4500    PETROL\n",
       "541             REVO G AT   TOYOTA  2021   7100000       12000    DIESEL\n",
       "542    FORTUNER 2.8 SIGMA   TOYOTA  2021   9200000        7000    DIESEL\n",
       "\n",
       "[543 rows x 6 columns]"
      ]
     },
     "execution_count": 18,
     "metadata": {},
     "output_type": "execute_result"
    }
   ],
   "source": [
    "car"
   ]
  },
  {
   "cell_type": "code",
   "execution_count": 19,
   "id": "99ccab71",
   "metadata": {},
   "outputs": [
    {
     "name": "stdout",
     "output_type": "stream",
     "text": [
      "<class 'pandas.core.frame.DataFrame'>\n",
      "RangeIndex: 543 entries, 0 to 542\n",
      "Data columns (total 6 columns):\n",
      " #   Column      Non-Null Count  Dtype \n",
      "---  ------      --------------  ----- \n",
      " 0   name        543 non-null    object\n",
      " 1   company     543 non-null    object\n",
      " 2   year        543 non-null    int32 \n",
      " 3   price       543 non-null    int32 \n",
      " 4   kms_driven  543 non-null    int32 \n",
      " 5   fuel_type   543 non-null    object\n",
      "dtypes: int32(3), object(3)\n",
      "memory usage: 19.2+ KB\n"
     ]
    }
   ],
   "source": [
    "car.info()"
   ]
  },
  {
   "cell_type": "code",
   "execution_count": 20,
   "id": "0f25a0a1",
   "metadata": {},
   "outputs": [],
   "source": [
    "car['price']=car['price'].astype(int)\n",
    "car['kms_driven']=car['kms_driven'].astype(int)"
   ]
  },
  {
   "cell_type": "code",
   "execution_count": 21,
   "id": "fda3b911",
   "metadata": {},
   "outputs": [
    {
     "name": "stdout",
     "output_type": "stream",
     "text": [
      "<class 'pandas.core.frame.DataFrame'>\n",
      "RangeIndex: 543 entries, 0 to 542\n",
      "Data columns (total 6 columns):\n",
      " #   Column      Non-Null Count  Dtype \n",
      "---  ------      --------------  ----- \n",
      " 0   name        543 non-null    object\n",
      " 1   company     543 non-null    object\n",
      " 2   year        543 non-null    int32 \n",
      " 3   price       543 non-null    int32 \n",
      " 4   kms_driven  543 non-null    int32 \n",
      " 5   fuel_type   543 non-null    object\n",
      "dtypes: int32(3), object(3)\n",
      "memory usage: 19.2+ KB\n"
     ]
    }
   ],
   "source": [
    "car.info()"
   ]
  },
  {
   "cell_type": "code",
   "execution_count": 22,
   "id": "706d1010",
   "metadata": {},
   "outputs": [
    {
     "data": {
      "text/html": [
       "<div>\n",
       "<style scoped>\n",
       "    .dataframe tbody tr th:only-of-type {\n",
       "        vertical-align: middle;\n",
       "    }\n",
       "\n",
       "    .dataframe tbody tr th {\n",
       "        vertical-align: top;\n",
       "    }\n",
       "\n",
       "    .dataframe thead th {\n",
       "        text-align: right;\n",
       "    }\n",
       "</style>\n",
       "<table border=\"1\" class=\"dataframe\">\n",
       "  <thead>\n",
       "    <tr style=\"text-align: right;\">\n",
       "      <th></th>\n",
       "      <th>name</th>\n",
       "      <th>company</th>\n",
       "      <th>year</th>\n",
       "      <th>price</th>\n",
       "      <th>kms_driven</th>\n",
       "      <th>fuel_type</th>\n",
       "    </tr>\n",
       "  </thead>\n",
       "  <tbody>\n",
       "    <tr>\n",
       "      <th>count</th>\n",
       "      <td>543</td>\n",
       "      <td>543</td>\n",
       "      <td>543.000000</td>\n",
       "      <td>5.430000e+02</td>\n",
       "      <td>5.430000e+02</td>\n",
       "      <td>543</td>\n",
       "    </tr>\n",
       "    <tr>\n",
       "      <th>unique</th>\n",
       "      <td>43</td>\n",
       "      <td>5</td>\n",
       "      <td>NaN</td>\n",
       "      <td>NaN</td>\n",
       "      <td>NaN</td>\n",
       "      <td>2</td>\n",
       "    </tr>\n",
       "    <tr>\n",
       "      <th>top</th>\n",
       "      <td>FORTUNER 2.7</td>\n",
       "      <td>TOYOTA</td>\n",
       "      <td>NaN</td>\n",
       "      <td>NaN</td>\n",
       "      <td>NaN</td>\n",
       "      <td>PETROL</td>\n",
       "    </tr>\n",
       "    <tr>\n",
       "      <th>freq</th>\n",
       "      <td>18</td>\n",
       "      <td>172</td>\n",
       "      <td>NaN</td>\n",
       "      <td>NaN</td>\n",
       "      <td>NaN</td>\n",
       "      <td>485</td>\n",
       "    </tr>\n",
       "    <tr>\n",
       "      <th>mean</th>\n",
       "      <td>NaN</td>\n",
       "      <td>NaN</td>\n",
       "      <td>2018.906077</td>\n",
       "      <td>3.788432e+06</td>\n",
       "      <td>3.556851e+04</td>\n",
       "      <td>NaN</td>\n",
       "    </tr>\n",
       "    <tr>\n",
       "      <th>std</th>\n",
       "      <td>NaN</td>\n",
       "      <td>NaN</td>\n",
       "      <td>2.372276</td>\n",
       "      <td>2.123717e+06</td>\n",
       "      <td>7.482084e+04</td>\n",
       "      <td>NaN</td>\n",
       "    </tr>\n",
       "    <tr>\n",
       "      <th>min</th>\n",
       "      <td>NaN</td>\n",
       "      <td>NaN</td>\n",
       "      <td>2010.000000</td>\n",
       "      <td>6.900000e+04</td>\n",
       "      <td>0.000000e+00</td>\n",
       "      <td>NaN</td>\n",
       "    </tr>\n",
       "    <tr>\n",
       "      <th>25%</th>\n",
       "      <td>NaN</td>\n",
       "      <td>NaN</td>\n",
       "      <td>2018.000000</td>\n",
       "      <td>2.225000e+06</td>\n",
       "      <td>1.000000e+04</td>\n",
       "      <td>NaN</td>\n",
       "    </tr>\n",
       "    <tr>\n",
       "      <th>50%</th>\n",
       "      <td>NaN</td>\n",
       "      <td>NaN</td>\n",
       "      <td>2019.000000</td>\n",
       "      <td>3.000000e+06</td>\n",
       "      <td>2.200000e+04</td>\n",
       "      <td>NaN</td>\n",
       "    </tr>\n",
       "    <tr>\n",
       "      <th>75%</th>\n",
       "      <td>NaN</td>\n",
       "      <td>NaN</td>\n",
       "      <td>2021.000000</td>\n",
       "      <td>4.900000e+06</td>\n",
       "      <td>4.325000e+04</td>\n",
       "      <td>NaN</td>\n",
       "    </tr>\n",
       "    <tr>\n",
       "      <th>max</th>\n",
       "      <td>NaN</td>\n",
       "      <td>NaN</td>\n",
       "      <td>2022.000000</td>\n",
       "      <td>1.090000e+07</td>\n",
       "      <td>1.600000e+06</td>\n",
       "      <td>NaN</td>\n",
       "    </tr>\n",
       "  </tbody>\n",
       "</table>\n",
       "</div>"
      ],
      "text/plain": [
       "                name company         year         price    kms_driven  \\\n",
       "count            543     543   543.000000  5.430000e+02  5.430000e+02   \n",
       "unique            43       5          NaN           NaN           NaN   \n",
       "top     FORTUNER 2.7  TOYOTA          NaN           NaN           NaN   \n",
       "freq              18     172          NaN           NaN           NaN   \n",
       "mean             NaN     NaN  2018.906077  3.788432e+06  3.556851e+04   \n",
       "std              NaN     NaN     2.372276  2.123717e+06  7.482084e+04   \n",
       "min              NaN     NaN  2010.000000  6.900000e+04  0.000000e+00   \n",
       "25%              NaN     NaN  2018.000000  2.225000e+06  1.000000e+04   \n",
       "50%              NaN     NaN  2019.000000  3.000000e+06  2.200000e+04   \n",
       "75%              NaN     NaN  2021.000000  4.900000e+06  4.325000e+04   \n",
       "max              NaN     NaN  2022.000000  1.090000e+07  1.600000e+06   \n",
       "\n",
       "       fuel_type  \n",
       "count        543  \n",
       "unique         2  \n",
       "top       PETROL  \n",
       "freq         485  \n",
       "mean         NaN  \n",
       "std          NaN  \n",
       "min          NaN  \n",
       "25%          NaN  \n",
       "50%          NaN  \n",
       "75%          NaN  \n",
       "max          NaN  "
      ]
     },
     "execution_count": 22,
     "metadata": {},
     "output_type": "execute_result"
    }
   ],
   "source": [
    "car.describe(include='all')"
   ]
  },
  {
   "cell_type": "code",
   "execution_count": 23,
   "id": "ee7812c8",
   "metadata": {},
   "outputs": [
    {
     "data": {
      "text/plain": [
       "array(['TOYOTA', 'HONDA', 'SUZUKI', 'HYUNDAI', 'KIA'], dtype=object)"
      ]
     },
     "execution_count": 23,
     "metadata": {},
     "output_type": "execute_result"
    }
   ],
   "source": [
    "car['company'].unique()"
   ]
  },
  {
   "cell_type": "code",
   "execution_count": 25,
   "id": "a263bf6a",
   "metadata": {},
   "outputs": [],
   "source": [
    "import seaborn as sns"
   ]
  },
  {
   "cell_type": "code",
   "execution_count": 26,
   "id": "4fc17161",
   "metadata": {},
   "outputs": [
    {
     "data": {
      "image/png": "[encoded data removed]",
      "text/plain": [
       "<Figure size 1080x504 with 1 Axes>"
      ]
     },
     "metadata": {},
     "output_type": "display_data"
    }
   ],
   "source": [
    "plt.subplots(figsize=(15,7))\n",
    "ax=sns.boxplot(x='company',y='price',data=car)\n",
    "ax.set_xticklabels(ax.get_xticklabels(),rotation=40,ha='right')\n",
    "plt.show()"
   ]
  },
  {
   "cell_type": "code",
   "execution_count": 27,
   "id": "597e3880",
   "metadata": {
    "scrolled": true
   },
   "outputs": [
    {
     "data": {
      "image/png": "[encoded data removed]",
      "text/plain": [
       "<Figure size 1440x2880 with 1 Axes>"
      ]
     },
     "metadata": {},
     "output_type": "display_data"
    }
   ],
   "source": [
    "plt.subplots(figsize=(20,40))\n",
    "ax=sns.swarmplot(x='year',y='price',data=car)\n",
    "ax.set_xticklabels(ax.get_xticklabels(),rotation=40,ha='right')\n",
    "plt.show()"
   ]
  },
  {
   "cell_type": "code",
   "execution_count": 28,
   "id": "c3fcb133",
   "metadata": {},
   "outputs": [
    {
     "data": {
      "text/plain": [
       "<seaborn.axisgrid.FacetGrid at 0x16bbbe130d0>"
      ]
     },
     "execution_count": 28,
     "metadata": {},
     "output_type": "execute_result"
    },
    {
     "data": {
      "image/png": "[encoded data removed]",
      "text/plain": [
       "<Figure size 756x504 with 1 Axes>"
      ]
     },
     "metadata": {},
     "output_type": "display_data"
    }
   ],
   "source": [
    "sns.relplot(x='kms_driven',y='price',data=car,height=7,aspect=1.5)"
   ]
  },
  {
   "cell_type": "code",
   "execution_count": 29,
   "id": "13eb6041",
   "metadata": {},
   "outputs": [
    {
     "data": {
      "text/plain": [
       "<AxesSubplot:xlabel='fuel_type', ylabel='price'>"
      ]
     },
     "execution_count": 29,
     "metadata": {},
     "output_type": "execute_result"
    },
    {
     "data": {
      "image/png": "[encoded data removed]",
      "text/plain": [
       "<Figure size 1008x504 with 1 Axes>"
      ]
     },
     "metadata": {},
     "output_type": "display_data"
    }
   ],
   "source": [
    "plt.subplots(figsize=(14,7))\n",
    "sns.boxplot(x='fuel_type',y='price',data=car)"
   ]
  },
  {
   "cell_type": "code",
   "execution_count": 30,
   "id": "a9e0119a",
   "metadata": {},
   "outputs": [
    {
     "data": {
      "text/plain": [
       "<seaborn.axisgrid.FacetGrid at 0x16bc58e46d0>"
      ]
     },
     "execution_count": 30,
     "metadata": {},
     "output_type": "execute_result"
    },
    {
     "data": {
      "image/png": "[encoded data removed]",
      "text/plain": [
       "<Figure size 1082.38x504 with 1 Axes>"
      ]
     },
     "metadata": {},
     "output_type": "display_data"
    }
   ],
   "source": [
    "ax=sns.relplot(x='company',y='price',data=car,hue='fuel_type',size='year',height=7,aspect=2)\n",
    "ax.set_xticklabels(rotation=40,ha='right')"
   ]
  },
  {
   "cell_type": "code",
   "execution_count": 31,
   "id": "d4ced951",
   "metadata": {},
   "outputs": [],
   "source": [
    "X=car[['name','company','year','kms_driven','fuel_type']]\n",
    "y=car['price']"
   ]
  },
  {
   "cell_type": "code",
   "execution_count": 32,
   "id": "7020e1a8",
   "metadata": {},
   "outputs": [
    {
     "data": {
      "text/html": [
       "<div>\n",
       "<style scoped>\n",
       "    .dataframe tbody tr th:only-of-type {\n",
       "        vertical-align: middle;\n",
       "    }\n",
       "\n",
       "    .dataframe tbody tr th {\n",
       "        vertical-align: top;\n",
       "    }\n",
       "\n",
       "    .dataframe thead th {\n",
       "        text-align: right;\n",
       "    }\n",
       "</style>\n",
       "<table border=\"1\" class=\"dataframe\">\n",
       "  <thead>\n",
       "    <tr style=\"text-align: right;\">\n",
       "      <th></th>\n",
       "      <th>name</th>\n",
       "      <th>company</th>\n",
       "      <th>year</th>\n",
       "      <th>kms_driven</th>\n",
       "      <th>fuel_type</th>\n",
       "    </tr>\n",
       "  </thead>\n",
       "  <tbody>\n",
       "    <tr>\n",
       "      <th>0</th>\n",
       "      <td>COROLLA GLI</td>\n",
       "      <td>TOYOTA</td>\n",
       "      <td>2022</td>\n",
       "      <td>0</td>\n",
       "      <td>PETROL</td>\n",
       "    </tr>\n",
       "    <tr>\n",
       "      <th>1</th>\n",
       "      <td>COROLLA ALTIS</td>\n",
       "      <td>TOYOTA</td>\n",
       "      <td>2022</td>\n",
       "      <td>0</td>\n",
       "      <td>PETROL</td>\n",
       "    </tr>\n",
       "    <tr>\n",
       "      <th>2</th>\n",
       "      <td>COROLLA ALTIS GRANDE</td>\n",
       "      <td>TOYOTA</td>\n",
       "      <td>2022</td>\n",
       "      <td>0</td>\n",
       "      <td>PETROL</td>\n",
       "    </tr>\n",
       "    <tr>\n",
       "      <th>3</th>\n",
       "      <td>YARIS 1.3 AT</td>\n",
       "      <td>TOYOTA</td>\n",
       "      <td>2022</td>\n",
       "      <td>0</td>\n",
       "      <td>PETROL</td>\n",
       "    </tr>\n",
       "    <tr>\n",
       "      <th>4</th>\n",
       "      <td>YARIS 1.3 MT</td>\n",
       "      <td>TOYOTA</td>\n",
       "      <td>2022</td>\n",
       "      <td>0</td>\n",
       "      <td>PETROL</td>\n",
       "    </tr>\n",
       "    <tr>\n",
       "      <th>...</th>\n",
       "      <td>...</td>\n",
       "      <td>...</td>\n",
       "      <td>...</td>\n",
       "      <td>...</td>\n",
       "      <td>...</td>\n",
       "    </tr>\n",
       "    <tr>\n",
       "      <th>538</th>\n",
       "      <td>CITY 1.3 AT</td>\n",
       "      <td>HONDA</td>\n",
       "      <td>2014</td>\n",
       "      <td>36000</td>\n",
       "      <td>PETROL</td>\n",
       "    </tr>\n",
       "    <tr>\n",
       "      <th>539</th>\n",
       "      <td>FORTUNER 2.7</td>\n",
       "      <td>TOYOTA</td>\n",
       "      <td>2021</td>\n",
       "      <td>15000</td>\n",
       "      <td>PETROL</td>\n",
       "    </tr>\n",
       "    <tr>\n",
       "      <th>540</th>\n",
       "      <td>TUCSON FWD GLS</td>\n",
       "      <td>HYUNDAI</td>\n",
       "      <td>2021</td>\n",
       "      <td>4500</td>\n",
       "      <td>PETROL</td>\n",
       "    </tr>\n",
       "    <tr>\n",
       "      <th>541</th>\n",
       "      <td>REVO G AT</td>\n",
       "      <td>TOYOTA</td>\n",
       "      <td>2021</td>\n",
       "      <td>12000</td>\n",
       "      <td>DIESEL</td>\n",
       "    </tr>\n",
       "    <tr>\n",
       "      <th>542</th>\n",
       "      <td>FORTUNER 2.8 SIGMA</td>\n",
       "      <td>TOYOTA</td>\n",
       "      <td>2021</td>\n",
       "      <td>7000</td>\n",
       "      <td>DIESEL</td>\n",
       "    </tr>\n",
       "  </tbody>\n",
       "</table>\n",
       "<p>543 rows × 5 columns</p>\n",
       "</div>"
      ],
      "text/plain": [
       "                     name  company  year  kms_driven fuel_type\n",
       "0             COROLLA GLI   TOYOTA  2022           0    PETROL\n",
       "1           COROLLA ALTIS   TOYOTA  2022           0    PETROL\n",
       "2    COROLLA ALTIS GRANDE   TOYOTA  2022           0    PETROL\n",
       "3            YARIS 1.3 AT   TOYOTA  2022           0    PETROL\n",
       "4            YARIS 1.3 MT   TOYOTA  2022           0    PETROL\n",
       "..                    ...      ...   ...         ...       ...\n",
       "538           CITY 1.3 AT    HONDA  2014       36000    PETROL\n",
       "539          FORTUNER 2.7   TOYOTA  2021       15000    PETROL\n",
       "540        TUCSON FWD GLS  HYUNDAI  2021        4500    PETROL\n",
       "541             REVO G AT   TOYOTA  2021       12000    DIESEL\n",
       "542    FORTUNER 2.8 SIGMA   TOYOTA  2021        7000    DIESEL\n",
       "\n",
       "[543 rows x 5 columns]"
      ]
     },
     "execution_count": 32,
     "metadata": {},
     "output_type": "execute_result"
    }
   ],
   "source": [
    "X"
   ]
  },
  {
   "cell_type": "code",
   "execution_count": 33,
   "id": "5fc2be52",
   "metadata": {},
   "outputs": [
    {
     "data": {
      "text/plain": [
       "(543,)"
      ]
     },
     "execution_count": 33,
     "metadata": {},
     "output_type": "execute_result"
    }
   ],
   "source": [
    "y.shape"
   ]
  },
  {
   "cell_type": "code",
   "execution_count": 34,
   "id": "09d98fdb",
   "metadata": {},
   "outputs": [],
   "source": [
    "from sklearn.model_selection import train_test_split\n",
    "X_train,X_test,y_train,y_test=train_test_split(X,y,test_size=0.2)\n",
    "from sklearn.linear_model import LinearRegression\n",
    "from sklearn.preprocessing import OneHotEncoder\n",
    "from sklearn.compose import make_column_transformer\n",
    "from sklearn.pipeline import make_pipeline\n",
    "from sklearn.metrics import r2_score"
   ]
  },
  {
   "cell_type": "code",
   "execution_count": 36,
   "id": "42280c7e",
   "metadata": {},
   "outputs": [
    {
     "data": {
      "text/plain": [
       "OneHotEncoder()"
      ]
     },
     "execution_count": 36,
     "metadata": {},
     "output_type": "execute_result"
    }
   ],
   "source": [
    "ohe=OneHotEncoder()\n",
    "ohe.fit(X[['name','company','fuel_type']])"
   ]
  },
  {
   "cell_type": "code",
   "execution_count": 37,
   "id": "5d236abb",
   "metadata": {},
   "outputs": [],
   "source": [
    "column_trans=make_column_transformer((OneHotEncoder(categories=ohe.categories_),['name','company','fuel_type']),\n",
    "                                    remainder='passthrough')"
   ]
  },
  {
   "cell_type": "code",
   "execution_count": 38,
   "id": "811c1627",
   "metadata": {},
   "outputs": [],
   "source": [
    "lr=LinearRegression()"
   ]
  },
  {
   "cell_type": "code",
   "execution_count": 39,
   "id": "01eb2c93",
   "metadata": {},
   "outputs": [],
   "source": [
    "pipe=make_pipeline(column_trans,lr)"
   ]
  },
  {
   "cell_type": "code",
   "execution_count": 40,
   "id": "537a9c34",
   "metadata": {},
   "outputs": [
    {
     "data": {
      "text/plain": [
       "Pipeline(steps=[('columntransformer',\n",
       "                 ColumnTransformer(remainder='passthrough',\n",
       "                                   transformers=[('onehotencoder',\n",
       "                                                  OneHotEncoder(categories=[array(['ALTO VX', 'ALTO VXR', 'ALTO VXR AGS', 'BRV IVTEC CVT',\n",
       "       'BRV IVTEC MT', 'BRV IVTEC S', 'CIAZ 1.4 AT', 'CIAZ 1.4 MT',\n",
       "       'CITY 1.3 AT', 'CITY 1.3 MT', 'CITY 1.5 ASPIRE', 'CITY 1.5 MT',\n",
       "       'CIVIC 1.5 TURBO', 'CIVIC 1.8 IVTEC', 'CIVIC 1.8 PROSMATEC',\n",
       "       'CIVIC 1....\n",
       "       'SORENTO 2.4 FWD', 'SORENTO 3.5 FWD', 'SPORTAGE ALPHA',\n",
       "       'SPORTAGE AWD', 'SPORTAGE FWD', 'TUCSON AWD ULTIMATE',\n",
       "       'TUCSON FWD GLS', 'YARIS 1.3 AT', 'YARIS 1.3 MT', 'YARIS 1.5 AT',\n",
       "       'YARIS 1.5 MT'], dtype=object),\n",
       "                                                                            array(['HONDA', 'HYUNDAI', 'KIA', 'SUZUKI', 'TOYOTA'], dtype=object),\n",
       "                                                                            array(['DIESEL', 'PETROL'], dtype=object)]),\n",
       "                                                  ['name', 'company',\n",
       "                                                   'fuel_type'])])),\n",
       "                ('linearregression', LinearRegression())])"
      ]
     },
     "execution_count": 40,
     "metadata": {},
     "output_type": "execute_result"
    }
   ],
   "source": [
    "pipe.fit(X_train,y_train)"
   ]
  },
  {
   "cell_type": "code",
   "execution_count": 41,
   "id": "91edcb0d",
   "metadata": {},
   "outputs": [],
   "source": [
    "y_pred=pipe.predict(X_test)"
   ]
  },
  {
   "cell_type": "code",
   "execution_count": 42,
   "id": "5821245c",
   "metadata": {},
   "outputs": [
    {
     "data": {
      "text/plain": [
       "0.9589034765043174"
      ]
     },
     "execution_count": 42,
     "metadata": {},
     "output_type": "execute_result"
    }
   ],
   "source": [
    "r2_score(y_test,y_pred)"
   ]
  },
  {
   "cell_type": "code",
   "execution_count": 43,
   "id": "6ad50409",
   "metadata": {},
   "outputs": [],
   "source": [
    "scores=[]\n",
    "for i in range(1000):\n",
    "    X_train,X_test,y_train,y_test=train_test_split(X,y,test_size=0.1,random_state=i)\n",
    "    lr=LinearRegression()\n",
    "    pipe=make_pipeline(column_trans,lr)\n",
    "    pipe.fit(X_train,y_train)\n",
    "    y_pred=pipe.predict(X_test)\n",
    "    scores.append(r2_score(y_test,y_pred))"
   ]
  },
  {
   "cell_type": "code",
   "execution_count": 44,
   "id": "78127fa0",
   "metadata": {},
   "outputs": [
    {
     "data": {
      "text/plain": [
       "35"
      ]
     },
     "execution_count": 44,
     "metadata": {},
     "output_type": "execute_result"
    }
   ],
   "source": [
    "np.argmax(scores)"
   ]
  },
  {
   "cell_type": "code",
   "execution_count": 45,
   "id": "671ac39b",
   "metadata": {},
   "outputs": [
    {
     "data": {
      "text/plain": [
       "0.9948988980198297"
      ]
     },
     "execution_count": 45,
     "metadata": {},
     "output_type": "execute_result"
    }
   ],
   "source": [
    "scores[np.argmax(scores)]"
   ]
  },
  {
   "cell_type": "code",
   "execution_count": 46,
   "id": "823fe3ff",
   "metadata": {},
   "outputs": [
    {
     "data": {
      "text/plain": [
       "array([1245764.1138618])"
      ]
     },
     "execution_count": 46,
     "metadata": {},
     "output_type": "execute_result"
    }
   ],
   "source": [
    "pipe.predict(pd.DataFrame(columns=X_test.columns,data=np.array(['CULTUS VXR','SUZUKI',2016,90000,'PETROL']).reshape(1,5)))"
   ]
  },
  {
   "cell_type": "code",
   "execution_count": 47,
   "id": "95ed1b5c",
   "metadata": {},
   "outputs": [
    {
     "data": {
      "text/plain": [
       "0.9948988980198297"
      ]
     },
     "execution_count": 47,
     "metadata": {},
     "output_type": "execute_result"
    }
   ],
   "source": [
    "X_train,X_test,y_train,y_test=train_test_split(X,y,test_size=0.1,random_state=np.argmax(scores))\n",
    "lr=LinearRegression()\n",
    "pipe=make_pipeline(column_trans,lr)\n",
    "pipe.fit(X_train,y_train)\n",
    "y_pred=pipe.predict(X_test)\n",
    "r2_score(y_test,y_pred)"
   ]
  },
  {
   "cell_type": "code",
   "execution_count": 48,
   "id": "3f15d7ab",
   "metadata": {},
   "outputs": [],
   "source": [
    "import pickle"
   ]
  },
  {
   "cell_type": "code",
   "execution_count": 49,
   "id": "da09f8d1",
   "metadata": {},
   "outputs": [],
   "source": [
    "pickle.dump(pipe,open('LinearRegressionModel.pkl','wb'))"
   ]
  },
  {
   "cell_type": "code",
   "execution_count": null,
   "id": "8daed4d2",
   "metadata": {},
   "outputs": [],
   "source": []
  },
  {
   "cell_type": "code",
   "execution_count": null,
   "id": "056c9603",
   "metadata": {},
   "outputs": [],
   "source": []
  },
  {
   "cell_type": "code",
   "execution_count": null,
   "id": "a41d26ca",
   "metadata": {},
   "outputs": [],
   "source": []
  }
 ],
 "metadata": {
  "kernelspec": {
   "display_name": "Python 3 (ipykernel)",
   "language": "python",
   "name": "python3"
  },
  "language_info": {
   "codemirror_mode": {
    "name": "ipython",
    "version": 3
   },
   "file_extension": ".py",
   "mimetype": "text/x-python",
   "name": "python",
   "nbconvert_exporter": "python",
   "pygments_lexer": "ipython3",
   "version": "3.10.2"
  }
 },
 "nbformat": 4,
 "nbformat_minor": 5
}
